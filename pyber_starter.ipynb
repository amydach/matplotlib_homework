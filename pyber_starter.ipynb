{
 "cells": [
  {
   "cell_type": "markdown",
   "metadata": {},
   "source": [
    "Below is my written description of three observable trends based on the data:\n",
    "\n",
    "1.  The average fare per city is considerably lower in urban cities than in rural cities.\n",
    "2.  However, the number of rides per city is considerably higher in urban cities than in rural cities.\n",
    "3.  The percentage of rides and fares in rural areas is below half the percentage of drivers in rural areas.  Therefore, hiring a driver in rural areas will not be as financially lucrative as hiring a driver in an urban area.\n",
    "4.  While suburban drivers are 30% of all drivers and generate 30% of the fares, they generate only 26% of the rides.  So the dollar per ride will be higher for suburban drivers than urban drivers.  Therefore, hiring a suburban driver will be the most financially lucrative."
   ]
  },
  {
   "cell_type": "code",
   "execution_count": 213,
   "metadata": {},
   "outputs": [
    {
     "data": {
      "text/html": [
       "<div>\n",
       "<style scoped>\n",
       "    .dataframe tbody tr th:only-of-type {\n",
       "        vertical-align: middle;\n",
       "    }\n",
       "\n",
       "    .dataframe tbody tr th {\n",
       "        vertical-align: top;\n",
       "    }\n",
       "\n",
       "    .dataframe thead th {\n",
       "        text-align: right;\n",
       "    }\n",
       "</style>\n",
       "<table border=\"1\" class=\"dataframe\">\n",
       "  <thead>\n",
       "    <tr style=\"text-align: right;\">\n",
       "      <th></th>\n",
       "      <th>city</th>\n",
       "      <th>driver_count</th>\n",
       "      <th>type</th>\n",
       "      <th>date</th>\n",
       "      <th>fare</th>\n",
       "      <th>ride_id</th>\n",
       "    </tr>\n",
       "  </thead>\n",
       "  <tbody>\n",
       "    <tr>\n",
       "      <th>0</th>\n",
       "      <td>Richardfort</td>\n",
       "      <td>38</td>\n",
       "      <td>Urban</td>\n",
       "      <td>2018-02-24 08:40:38</td>\n",
       "      <td>13.93</td>\n",
       "      <td>5628545007794</td>\n",
       "    </tr>\n",
       "    <tr>\n",
       "      <th>1</th>\n",
       "      <td>Richardfort</td>\n",
       "      <td>38</td>\n",
       "      <td>Urban</td>\n",
       "      <td>2018-02-13 12:46:07</td>\n",
       "      <td>14.00</td>\n",
       "      <td>910050116494</td>\n",
       "    </tr>\n",
       "    <tr>\n",
       "      <th>2</th>\n",
       "      <td>Richardfort</td>\n",
       "      <td>38</td>\n",
       "      <td>Urban</td>\n",
       "      <td>2018-02-16 13:52:19</td>\n",
       "      <td>17.92</td>\n",
       "      <td>820639054416</td>\n",
       "    </tr>\n",
       "    <tr>\n",
       "      <th>3</th>\n",
       "      <td>Richardfort</td>\n",
       "      <td>38</td>\n",
       "      <td>Urban</td>\n",
       "      <td>2018-02-01 20:18:28</td>\n",
       "      <td>10.26</td>\n",
       "      <td>9554935945413</td>\n",
       "    </tr>\n",
       "    <tr>\n",
       "      <th>4</th>\n",
       "      <td>Richardfort</td>\n",
       "      <td>38</td>\n",
       "      <td>Urban</td>\n",
       "      <td>2018-04-17 02:26:37</td>\n",
       "      <td>23.00</td>\n",
       "      <td>720020655850</td>\n",
       "    </tr>\n",
       "  </tbody>\n",
       "</table>\n",
       "</div>"
      ],
      "text/plain": [
       "          city  driver_count   type                 date   fare        ride_id\n",
       "0  Richardfort            38  Urban  2018-02-24 08:40:38  13.93  5628545007794\n",
       "1  Richardfort            38  Urban  2018-02-13 12:46:07  14.00   910050116494\n",
       "2  Richardfort            38  Urban  2018-02-16 13:52:19  17.92   820639054416\n",
       "3  Richardfort            38  Urban  2018-02-01 20:18:28  10.26  9554935945413\n",
       "4  Richardfort            38  Urban  2018-04-17 02:26:37  23.00   720020655850"
      ]
     },
     "execution_count": 213,
     "metadata": {},
     "output_type": "execute_result"
    }
   ],
   "source": [
    "%matplotlib inline\n",
    "# Dependencies and Setup\n",
    "import matplotlib.pyplot as plt\n",
    "import pandas as pd\n",
    "import numpy as np\n",
    "import warnings\n",
    "warnings.filterwarnings('ignore')\n",
    "\n",
    "# File to Load (Remember to change these)\n",
    "city_data_to_load = \"data/city_data.csv\"\n",
    "ride_data_to_load = \"data/ride_data.csv\"\n",
    "\n",
    "# Read the City and Ride Data\n",
    "# Create a path to the csv and read it into a Pandas DataFrame\n",
    "\n",
    "city_data_df = pd.read_csv(city_data_to_load)\n",
    "ride_data_df = pd.read_csv(ride_data_to_load)\n",
    "\n",
    "# Combine the data into a single dataset\n",
    "city_data_complete = pd.merge(city_data_df, ride_data_df, how=\"left\", on=[\"city\"])\n",
    "\n",
    "# Display the data table for preview\n",
    "city_data_complete.head()"
   ]
  },
  {
   "cell_type": "code",
   "execution_count": 214,
   "metadata": {
    "scrolled": true
   },
   "outputs": [
    {
     "data": {
      "text/html": [
       "<div>\n",
       "<style scoped>\n",
       "    .dataframe tbody tr th:only-of-type {\n",
       "        vertical-align: middle;\n",
       "    }\n",
       "\n",
       "    .dataframe tbody tr th {\n",
       "        vertical-align: top;\n",
       "    }\n",
       "\n",
       "    .dataframe thead th {\n",
       "        text-align: right;\n",
       "    }\n",
       "</style>\n",
       "<table border=\"1\" class=\"dataframe\">\n",
       "  <thead>\n",
       "    <tr style=\"text-align: right;\">\n",
       "      <th></th>\n",
       "      <th>city</th>\n",
       "      <th>driver_count</th>\n",
       "      <th>type</th>\n",
       "      <th>date</th>\n",
       "      <th>fare</th>\n",
       "      <th>ride_id</th>\n",
       "    </tr>\n",
       "  </thead>\n",
       "  <tbody>\n",
       "    <tr>\n",
       "      <th>0</th>\n",
       "      <td>Richardfort</td>\n",
       "      <td>38</td>\n",
       "      <td>Urban</td>\n",
       "      <td>2018-02-24 08:40:38</td>\n",
       "      <td>13.93</td>\n",
       "      <td>5628545007794</td>\n",
       "    </tr>\n",
       "    <tr>\n",
       "      <th>1</th>\n",
       "      <td>Richardfort</td>\n",
       "      <td>38</td>\n",
       "      <td>Urban</td>\n",
       "      <td>2018-02-13 12:46:07</td>\n",
       "      <td>14.00</td>\n",
       "      <td>910050116494</td>\n",
       "    </tr>\n",
       "    <tr>\n",
       "      <th>2</th>\n",
       "      <td>Richardfort</td>\n",
       "      <td>38</td>\n",
       "      <td>Urban</td>\n",
       "      <td>2018-02-16 13:52:19</td>\n",
       "      <td>17.92</td>\n",
       "      <td>820639054416</td>\n",
       "    </tr>\n",
       "    <tr>\n",
       "      <th>3</th>\n",
       "      <td>Richardfort</td>\n",
       "      <td>38</td>\n",
       "      <td>Urban</td>\n",
       "      <td>2018-02-01 20:18:28</td>\n",
       "      <td>10.26</td>\n",
       "      <td>9554935945413</td>\n",
       "    </tr>\n",
       "    <tr>\n",
       "      <th>4</th>\n",
       "      <td>Richardfort</td>\n",
       "      <td>38</td>\n",
       "      <td>Urban</td>\n",
       "      <td>2018-04-17 02:26:37</td>\n",
       "      <td>23.00</td>\n",
       "      <td>720020655850</td>\n",
       "    </tr>\n",
       "  </tbody>\n",
       "</table>\n",
       "</div>"
      ],
      "text/plain": [
       "          city  driver_count   type                 date   fare        ride_id\n",
       "0  Richardfort            38  Urban  2018-02-24 08:40:38  13.93  5628545007794\n",
       "1  Richardfort            38  Urban  2018-02-13 12:46:07  14.00   910050116494\n",
       "2  Richardfort            38  Urban  2018-02-16 13:52:19  17.92   820639054416\n",
       "3  Richardfort            38  Urban  2018-02-01 20:18:28  10.26  9554935945413\n",
       "4  Richardfort            38  Urban  2018-04-17 02:26:37  23.00   720020655850"
      ]
     },
     "execution_count": 214,
     "metadata": {},
     "output_type": "execute_result"
    }
   ],
   "source": [
    "city_data_complete.head()\n",
    "neworder = [\"city\",\"date\",\"fare\",\"ride_id\",\"driver_count\",\"type\"]\n",
    "#city_data_complete=city_data_complete.reindex(columns=neworder)\n",
    "city_data_complete.head()"
   ]
  },
  {
   "cell_type": "markdown",
   "metadata": {},
   "source": [
    "## Bubble Plot of Ride Sharing Data"
   ]
  },
  {
   "cell_type": "code",
   "execution_count": 215,
   "metadata": {},
   "outputs": [
    {
     "data": {
      "text/html": [
       "<div>\n",
       "<style scoped>\n",
       "    .dataframe tbody tr th:only-of-type {\n",
       "        vertical-align: middle;\n",
       "    }\n",
       "\n",
       "    .dataframe tbody tr th {\n",
       "        vertical-align: top;\n",
       "    }\n",
       "\n",
       "    .dataframe thead th {\n",
       "        text-align: right;\n",
       "    }\n",
       "</style>\n",
       "<table border=\"1\" class=\"dataframe\">\n",
       "  <thead>\n",
       "    <tr style=\"text-align: right;\">\n",
       "      <th></th>\n",
       "      <th></th>\n",
       "      <th>driver_count</th>\n",
       "      <th>total_rides</th>\n",
       "      <th>avg_fare_per_city</th>\n",
       "    </tr>\n",
       "    <tr>\n",
       "      <th>type</th>\n",
       "      <th>city</th>\n",
       "      <th></th>\n",
       "      <th></th>\n",
       "      <th></th>\n",
       "    </tr>\n",
       "  </thead>\n",
       "  <tbody>\n",
       "    <tr>\n",
       "      <th rowspan=\"5\" valign=\"top\">Rural</th>\n",
       "      <th>Bradshawfurt</th>\n",
       "      <td>7</td>\n",
       "      <td>10</td>\n",
       "      <td>40.064000</td>\n",
       "    </tr>\n",
       "    <tr>\n",
       "      <th>Garzaport</th>\n",
       "      <td>7</td>\n",
       "      <td>3</td>\n",
       "      <td>24.123333</td>\n",
       "    </tr>\n",
       "    <tr>\n",
       "      <th>Harringtonfort</th>\n",
       "      <td>4</td>\n",
       "      <td>6</td>\n",
       "      <td>33.470000</td>\n",
       "    </tr>\n",
       "    <tr>\n",
       "      <th>Jessicaport</th>\n",
       "      <td>1</td>\n",
       "      <td>6</td>\n",
       "      <td>36.013333</td>\n",
       "    </tr>\n",
       "    <tr>\n",
       "      <th>Lake Jamie</th>\n",
       "      <td>4</td>\n",
       "      <td>6</td>\n",
       "      <td>34.358333</td>\n",
       "    </tr>\n",
       "  </tbody>\n",
       "</table>\n",
       "</div>"
      ],
      "text/plain": [
       "                      driver_count  total_rides  avg_fare_per_city\n",
       "type  city                                                        \n",
       "Rural Bradshawfurt               7           10          40.064000\n",
       "      Garzaport                  7            3          24.123333\n",
       "      Harringtonfort             4            6          33.470000\n",
       "      Jessicaport                1            6          36.013333\n",
       "      Lake Jamie                 4            6          34.358333"
      ]
     },
     "execution_count": 215,
     "metadata": {},
     "output_type": "execute_result"
    }
   ],
   "source": [
    "\n",
    "# Obtain the x and y coordinates for each of the three city types\n",
    "\n",
    "grouped_city_data_complete = city_data_complete.groupby([\"type\",\"city\"]).sum()\n",
    "grouped_city_data_complete = grouped_city_data_complete.drop(columns=[\"driver_count\",\"ride_id\"])\n",
    "grouped_city_data_complete2 = city_data_df.groupby([\"type\",\"city\"]).max()\n",
    "grouped_city_data_complete3 = city_data_complete.groupby([\"type\",\"city\"]).count()\n",
    "grouped_city_data_complete3 = grouped_city_data_complete3.drop(columns=[\"date\",\"fare\",\"driver_count\"])\n",
    "grouped_city_data_merge = grouped_city_data_complete.merge(grouped_city_data_complete2, on=[\"type\",\"city\"], how=\"inner\")\n",
    "grouped_city_data_merge2 = grouped_city_data_merge.merge(grouped_city_data_complete3, on=[\"type\",\"city\"], how=\"inner\").rename(columns={\"ride_id\": \"total_rides\"})\n",
    "grouped_city_data_merge2[\"avg_fare_per_city\"] = grouped_city_data_merge2[\"fare\"]/grouped_city_data_merge2[\"total_rides\"]\n",
    "grouped_city_data_merge2 = grouped_city_data_merge2.drop(columns=[\"fare\"])\n",
    "\n",
    "# Make a variable for each type of city\n",
    "type = \"Rural\"\n",
    "type2 = \"Suburban\"\n",
    "type3 = \"Urban\"\n",
    "# Collect the data by type in group_city_data_merge2 above\n",
    "rural_type = grouped_city_data_merge2.loc[type]\n",
    "suburban_type = grouped_city_data_merge2.loc[type2]\n",
    "urban_type = grouped_city_data_merge2.loc[type3]\n",
    "\n",
    "\n",
    "grouped_city_data_merge2.head()"
   ]
  },
  {
   "cell_type": "code",
   "execution_count": 216,
   "metadata": {},
   "outputs": [
    {
     "data": {
      "image/png": "[encoded data removed]",
      "text/plain": [
       "<Figure size 432x288 with 1 Axes>"
      ]
     },
     "metadata": {
      "needs_background": "light"
     },
     "output_type": "display_data"
    },
    {
     "data": {
      "text/plain": [
       "<Figure size 576x360 with 0 Axes>"
      ]
     },
     "metadata": {},
     "output_type": "display_data"
    }
   ],
   "source": [
    "#Create scatter plots\n",
    "fig, ax = plt.subplots()\n",
    "\n",
    "\n",
    "# Build the scatter plots for each city types\n",
    "plt.scatter(rural_type[\"total_rides\"], rural_type[\"avg_fare_per_city\"], s=rural_type[\"driver_count\"]*10, facecolors=\"gold\", alpha=0.6, edgecolors=\"black\", label=\"Rural\")\n",
    "plt.scatter(suburban_type[\"total_rides\"], suburban_type[\"avg_fare_per_city\"], s=suburban_type[\"driver_count\"]*10, facecolors=\"skyblue\", alpha=0.5, edgecolors=\"black\", label=\"Suburban\")\n",
    "plt.scatter(urban_type[\"total_rides\"], urban_type[\"avg_fare_per_city\"], s=urban_type[\"driver_count\"]*10, facecolors=\"coral\", alpha=0.5, edgecolors=\"black\", label=\"Urban\")\n",
    "# Create a legend\n",
    "#plt.legend((type, type2, type3), loc='upper right')\n",
    "\n",
    "lgnd = plt.legend((type, type2, type3), loc='upper right')\n",
    "\n",
    "#change the marker size manually for both lines\n",
    "lgnd.legendHandles[0]._sizes = [30]\n",
    "lgnd.legendHandles[1]._sizes = [30]\n",
    "lgnd.legendHandles[2]._sizes = [30]\n",
    "\n",
    "# Incorporate the other graph properties\n",
    "#ax.set_xlim(0, 40)\n",
    "#ax.set_ylim(18, 48)\n",
    "plt.ylabel('Average Fare Per City($)')\n",
    "plt.xlabel('Total Rides Per City')\n",
    "plt.title(\"Ride Sharing Data by City Type\")\n",
    "\n",
    "\n",
    "\n",
    "# Incorporate a text label regarding circle size\n",
    "plt.text(45, 30, \"Bubble size is based\", fontsize = 14)\n",
    "plt.text(45, 28, \"on driver count\", fontsize = 14)\n",
    "\n",
    "# Print our chart to the screen\n",
    "fig = plt.figure()\n",
    "fig.set_figheight(5)\n",
    "fig.set_figwidth(8)\n",
    "plt.show()\n",
    "# Save Figure"
   ]
  },
  {
   "cell_type": "markdown",
   "metadata": {},
   "source": [
    "## Total Fares by City Type"
   ]
  },
  {
   "cell_type": "code",
   "execution_count": 217,
   "metadata": {},
   "outputs": [
    {
     "data": {
      "text/html": [
       "<div>\n",
       "<style scoped>\n",
       "    .dataframe tbody tr th:only-of-type {\n",
       "        vertical-align: middle;\n",
       "    }\n",
       "\n",
       "    .dataframe tbody tr th {\n",
       "        vertical-align: top;\n",
       "    }\n",
       "\n",
       "    .dataframe thead th {\n",
       "        text-align: right;\n",
       "    }\n",
       "</style>\n",
       "<table border=\"1\" class=\"dataframe\">\n",
       "  <thead>\n",
       "    <tr style=\"text-align: right;\">\n",
       "      <th></th>\n",
       "      <th>driver_count</th>\n",
       "      <th>pct_driver_count</th>\n",
       "      <th>fare</th>\n",
       "      <th>pct_fares</th>\n",
       "      <th>ride_id</th>\n",
       "      <th>pct_ride_count</th>\n",
       "    </tr>\n",
       "    <tr>\n",
       "      <th>type</th>\n",
       "      <th></th>\n",
       "      <th></th>\n",
       "      <th></th>\n",
       "      <th></th>\n",
       "      <th></th>\n",
       "      <th></th>\n",
       "    </tr>\n",
       "  </thead>\n",
       "  <tbody>\n",
       "    <tr>\n",
       "      <th>Rural</th>\n",
       "      <td>18</td>\n",
       "      <td>0.15</td>\n",
       "      <td>4327.93</td>\n",
       "      <td>0.068115</td>\n",
       "      <td>125</td>\n",
       "      <td>0.052632</td>\n",
       "    </tr>\n",
       "    <tr>\n",
       "      <th>Suburban</th>\n",
       "      <td>36</td>\n",
       "      <td>0.30</td>\n",
       "      <td>19356.33</td>\n",
       "      <td>0.304639</td>\n",
       "      <td>625</td>\n",
       "      <td>0.263158</td>\n",
       "    </tr>\n",
       "    <tr>\n",
       "      <th>Urban</th>\n",
       "      <td>66</td>\n",
       "      <td>0.55</td>\n",
       "      <td>39854.38</td>\n",
       "      <td>0.627246</td>\n",
       "      <td>1625</td>\n",
       "      <td>0.684211</td>\n",
       "    </tr>\n",
       "  </tbody>\n",
       "</table>\n",
       "</div>"
      ],
      "text/plain": [
       "          driver_count  pct_driver_count      fare  pct_fares  ride_id  \\\n",
       "type                                                                     \n",
       "Rural               18              0.15   4327.93   0.068115      125   \n",
       "Suburban            36              0.30  19356.33   0.304639      625   \n",
       "Urban               66              0.55  39854.38   0.627246     1625   \n",
       "\n",
       "          pct_ride_count  \n",
       "type                      \n",
       "Rural           0.052632  \n",
       "Suburban        0.263158  \n",
       "Urban           0.684211  "
      ]
     },
     "execution_count": 217,
     "metadata": {},
     "output_type": "execute_result"
    }
   ],
   "source": [
    "# Calculate Type Percentages\n",
    "# % of Total Fares by City Type\n",
    "grouped_ride_data = city_data_complete.groupby([\"type\"]).sum()\n",
    "grouped_ride_data = grouped_ride_data.drop(columns=[\"driver_count\",\"ride_id\"])\n",
    "total_ride_fares = grouped_ride_data[\"fare\"].sum()\n",
    "grouped_ride_data[\"pct_fares\"]=grouped_ride_data[\"fare\"]/total_ride_fares\n",
    "\n",
    "# % of Total Drivers by City Type\n",
    "grouped_city_data = city_data_df.groupby([\"type\"]).count()\n",
    "grouped_city_data = grouped_city_data.drop(columns=[\"city\"])\n",
    "total_driver_count = grouped_city_data[\"driver_count\"].sum()\n",
    "grouped_city_data[\"pct_driver_count\"]=grouped_city_data[\"driver_count\"]/total_driver_count\n",
    "\n",
    "# % of Total Rides by City Type\n",
    "grouped_ride_data2 = city_data_complete.groupby([\"type\"]).count()\n",
    "grouped_ride_data2 = grouped_ride_data2.drop(columns=[\"city\",\"date\",\"driver_count\",\"fare\"])\n",
    "total_ride_count = grouped_ride_data2[\"ride_id\"].sum()\n",
    "grouped_ride_data2[\"pct_ride_count\"]=grouped_ride_data2[\"ride_id\"]/total_ride_count\n",
    "\n",
    "grouped_city_data_merge = grouped_city_data.merge(grouped_ride_data, on=[\"type\"], how=\"inner\")\n",
    "grouped_city_data_merge2 = grouped_city_data_merge.merge(grouped_ride_data2, on=[\"type\"], how=\"inner\")\n",
    "#grouped_city_data_merge2 = grouped_city_data_merge2.drop(columns=[\"driver_count\",\"fare\",\"ride_id\"])\n",
    "#grouped_city_data_merge = grouped_city_data.merge(grouped_city_data_complete3, on=[\"type\",\"city\"], how=\"inner\").rename(columns={\"ride_id\": \"total_rides\"})\n",
    "#grouped_city_data_merge2[\"avg_fare_per_city\"] = round(grouped_city_data_merge2[\"fare\"]/grouped_city_data_merge2[\"driver_count\"] * 2 / 2)\n",
    "#grouped_city_data_merge2 = grouped_city_data_merge2.drop(columns=[\"fare\"])\n",
    "driver_count_list=grouped_city_data_merge2[\"driver_count\"]\n",
    "fare_list=grouped_city_data_merge2[\"fare\"]\n",
    "ride_list=grouped_city_data_merge2[\"ride_id\"]\n",
    "grouped_city_data_merge2.head()\n"
   ]
  },
  {
   "cell_type": "code",
   "execution_count": 221,
   "metadata": {},
   "outputs": [
    {
     "data": {
      "text/html": [
       "<div>\n",
       "<style scoped>\n",
       "    .dataframe tbody tr th:only-of-type {\n",
       "        vertical-align: middle;\n",
       "    }\n",
       "\n",
       "    .dataframe tbody tr th {\n",
       "        vertical-align: top;\n",
       "    }\n",
       "\n",
       "    .dataframe thead th {\n",
       "        text-align: right;\n",
       "    }\n",
       "</style>\n",
       "<table border=\"1\" class=\"dataframe\">\n",
       "  <thead>\n",
       "    <tr style=\"text-align: right;\">\n",
       "      <th></th>\n",
       "      <th>driver_count</th>\n",
       "      <th>pct_driver_count</th>\n",
       "    </tr>\n",
       "    <tr>\n",
       "      <th>type</th>\n",
       "      <th></th>\n",
       "      <th></th>\n",
       "    </tr>\n",
       "  </thead>\n",
       "  <tbody>\n",
       "    <tr>\n",
       "      <th>Rural</th>\n",
       "      <td>18</td>\n",
       "      <td>0.15</td>\n",
       "    </tr>\n",
       "    <tr>\n",
       "      <th>Suburban</th>\n",
       "      <td>36</td>\n",
       "      <td>0.30</td>\n",
       "    </tr>\n",
       "    <tr>\n",
       "      <th>Urban</th>\n",
       "      <td>66</td>\n",
       "      <td>0.55</td>\n",
       "    </tr>\n",
       "  </tbody>\n",
       "</table>\n",
       "</div>"
      ],
      "text/plain": [
       "          driver_count  pct_driver_count\n",
       "type                                    \n",
       "Rural               18              0.15\n",
       "Suburban            36              0.30\n",
       "Urban               66              0.55"
      ]
     },
     "execution_count": 221,
     "metadata": {},
     "output_type": "execute_result"
    }
   ],
   "source": [
    "grouped_city_data.head()"
   ]
  },
  {
   "cell_type": "code",
   "execution_count": 218,
   "metadata": {},
   "outputs": [
    {
     "data": {
      "text/plain": [
       "([<matplotlib.patches.Wedge at 0x258824d9da0>,\n",
       "  <matplotlib.patches.Wedge at 0x258824d90f0>,\n",
       "  <matplotlib.patches.Wedge at 0x25882cade48>],\n",
       " [Text(-1.0620893660215651, 0.558539325906341, 'Rural'),\n",
       "  Text(-0.8505386879122898, -0.6975556897943278, 'Suburban'),\n",
       "  Text(0.9792721358604437, 0.5010250332341937, 'Urban')],\n",
       " [Text(-0.6195521301792464, 0.32581460677869895, '6.8%'),\n",
       "  Text(-0.4639301934067035, -0.38048492170599696, '30.5%'),\n",
       "  Text(0.5341484377420601, 0.2732863817641056, '62.7%')])"
      ]
     },
     "execution_count": 218,
     "metadata": {},
     "output_type": "execute_result"
    },
    {
     "data": {
      "image/png": "[encoded data removed]",
      "text/plain": [
       "<Figure size 432x288 with 1 Axes>"
      ]
     },
     "metadata": {},
     "output_type": "display_data"
    }
   ],
   "source": [
    "# Build Pie Chart # 1 \n",
    "# Labels for the sections of our pie chart\n",
    "labels = [\"Rural\",\"Suburban\",\"Urban\"]\n",
    "\n",
    "# The values of each section of the pie chart\n",
    "sizes = [fare_list]\n",
    "\n",
    "# The colors of each section of the pie chart\n",
    "colors = [\"gold\", \"coral\", \"skyblue\"]\n",
    "\n",
    "# Tells matplotlib to seperate the \"Python\" section from the others\n",
    "explode = (0.1, 0, 0)\n",
    "\n",
    "# Creates the pie chart based upon the values above\n",
    "plt.title(\"% of Total Fares by City Type\")\n",
    "# Automatically finds the percentages of each part of the pie chart\n",
    "plt.pie(sizes, explode=explode, labels=labels, colors=colors,\n",
    "        autopct=\"%1.1f%%\", shadow=True, startangle=140)"
   ]
  },
  {
   "cell_type": "markdown",
   "metadata": {},
   "source": [
    "## Total Rides by City Type"
   ]
  },
  {
   "cell_type": "code",
   "execution_count": 219,
   "metadata": {},
   "outputs": [
    {
     "data": {
      "text/plain": [
       "([<matplotlib.patches.Wedge at 0x25882695278>,\n",
       "  <matplotlib.patches.Wedge at 0x258826feb70>,\n",
       "  <matplotlib.patches.Wedge at 0x258826fe978>],\n",
       " [Text(-1.0336751511106508, 0.6095208626260248, 'Rural'),\n",
       "  Text(-0.9860007094711902, -0.48765008040839053, 'Suburban'),\n",
       "  Text(1.0528174881480703, 0.31870885875605665, 'Urban')],\n",
       " [Text(-0.602977171481213, 0.3555538365318478, '5.3%'),\n",
       "  Text(-0.5378185688024674, -0.26599095295003117, '26.3%'),\n",
       "  Text(0.5742640844444019, 0.17384119568512177, '68.4%')])"
      ]
     },
     "execution_count": 219,
     "metadata": {},
     "output_type": "execute_result"
    },
    {
     "data": {
      "image/png": "[encoded data removed]",
      "text/plain": [
       "<Figure size 432x288 with 1 Axes>"
      ]
     },
     "metadata": {},
     "output_type": "display_data"
    }
   ],
   "source": [
    "# Build Pie Chart # 2\n",
    "# Labels for the sections of our pie chart\n",
    "labels = [\"Rural\",\"Suburban\",\"Urban\"]\n",
    "\n",
    "# The values of each section of the pie chart\n",
    "sizes = [ride_list]\n",
    "\n",
    "# The colors of each section of the pie chart\n",
    "colors = [\"gold\", \"coral\", \"skyblue\"]\n",
    "\n",
    "# Tells matplotlib to seperate the \"Python\" section from the others\n",
    "explode = (0.1, 0, 0)\n",
    "\n",
    "# Creates the pie chart based upon the values above\n",
    "plt.title(\"% of Total Rides by City Type\")\n",
    "# Automatically finds the percentages of each part of the pie chart\n",
    "plt.pie(sizes, explode=explode, labels=labels, colors=colors,\n",
    "        autopct=\"%1.1f%%\", shadow=True, startangle=140)"
   ]
  },
  {
   "cell_type": "markdown",
   "metadata": {},
   "source": [
    "## Total Drivers by City Type"
   ]
  },
  {
   "cell_type": "code",
   "execution_count": 220,
   "metadata": {},
   "outputs": [
    {
     "data": {
      "text/plain": [
       "([<matplotlib.patches.Wedge at 0x2588272c3c8>,\n",
       "  <matplotlib.patches.Wedge at 0x258829dd160>,\n",
       "  <matplotlib.patches.Wedge at 0x25882673908>],\n",
       " [Text(-1.1692440827970272, 0.2699412433181324, 'Rural'),\n",
       "  Text(-0.4120671763653916, -1.0199022708878795, 'Suburban'),\n",
       "  Text(0.8301804301376048, 0.721665056252928, 'Urban')],\n",
       " [Text(-0.6820590482982657, 0.15746572526891056, '15.0%'),\n",
       "  Text(-0.22476391438112267, -0.5563103295752069, '30.0%'),\n",
       "  Text(0.4528256891659662, 0.39363548522886976, '55.0%')])"
      ]
     },
     "execution_count": 220,
     "metadata": {},
     "output_type": "execute_result"
    },
    {
     "data": {
      "image/png": "[encoded data removed]",
      "text/plain": [
       "<Figure size 432x288 with 1 Axes>"
      ]
     },
     "metadata": {},
     "output_type": "display_data"
    }
   ],
   "source": [
    "# Build Pie Chart # 3\n",
    "# Labels for the sections of our pie chart\n",
    "labels = [\"Rural\",\"Suburban\",\"Urban\"]\n",
    "\n",
    "# The values of each section of the pie chart\n",
    "sizes = [driver_count_list]\n",
    "\n",
    "# The colors of each section of the pie chart\n",
    "colors = [\"gold\", \"coral\", \"skyblue\"]\n",
    "\n",
    "# Tells matplotlib to seperate the \"Python\" section from the others\n",
    "explode = (0.1, 0, 0)\n",
    "\n",
    "# Creates the pie chart based upon the values above\n",
    "plt.title(\"% of Total Drivers by City Type\")\n",
    "# Automatically finds the percentages of each part of the pie chart\n",
    "plt.pie(sizes, explode=explode, labels=labels, colors=colors,\n",
    "        autopct=\"%1.1f%%\", shadow=True, startangle=140)"
   ]
  }
 ],
 "metadata": {
  "anaconda-cloud": {},
  "kernelspec": {
   "display_name": "Conda [PythonData]",
   "language": "python",
   "name": "pythondata"
  },
  "language_info": {
   "codemirror_mode": {
    "name": "ipython",
    "version": 3
   },
   "file_extension": ".py",
   "mimetype": "text/x-python",
   "name": "python",
   "nbconvert_exporter": "python",
   "pygments_lexer": "ipython3",
   "version": "3.6.8"
  },
  "latex_envs": {
   "LaTeX_envs_menu_present": true,
   "autoclose": false,
   "autocomplete": true,
   "bibliofile": "biblio.bib",
   "cite_by": "apalike",
   "current_citInitial": 1,
   "eqLabelWithNumbers": true,
   "eqNumInitial": 1,
   "hotkeys": {
    "equation": "Ctrl-E",
    "itemize": "Ctrl-I"
   },
   "labels_anchors": false,
   "latex_user_defs": false,
   "report_style_numbering": false,
   "user_envs_cfg": false
  }
 },
 "nbformat": 4,
 "nbformat_minor": 2
}
